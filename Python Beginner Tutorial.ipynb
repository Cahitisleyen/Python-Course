{
 "cells": [
  {
   "cell_type": "markdown",
   "metadata": {
    "slideshow": {
     "slide_type": "slide"
    }
   },
   "source": [
    "# <h2  style=\"color:red;\"><center>Python Beginner Tutorial</center></h2>\n",
    "\n"
   ]
  },
  {
   "cell_type": "markdown",
   "metadata": {
    "slideshow": {
     "slide_type": "slide"
    }
   },
   "source": [
    "<h2  style=\"color:red;\"><center>Course Content</center></h2>\n",
    "<li>Preparing the Necessary Environment</li>\n",
    "<li>Python Objects and Data Structures</li>\n",
    "<li>Python Operators</li>\n",
    "<li>Conditional Expressions</li>\n",
    "<li>Loops</li>\n",
    "<li>Functions</li>\n",
    "<li>Object Oriented Programming</li>\n",
    "<li>Modules</li>\n",
    "<li>Error and Error Management</li>\n",
    "<li>File Management</li>\n",
    "<li>Advanced Functions</li>\n",
    "<li>3 surprise projects</li>"
   ]
  },
  {
   "cell_type": "markdown",
   "metadata": {
    "slideshow": {
     "slide_type": "slide"
    }
   },
   "source": [
    "\n",
    "<h2  style=\"color:red;\"><center>What is Python?</center></h2>\n",
    "\n",
    "<br>\n",
    "<br>\n",
    "\n",
    "<li>Python is very easy to learn</li>\n",
    "<li>Dynamic</li>\n",
    "<li>High Level</li>\n",
    "<li>Object Oriented</li>\n",
    "<li>Interpretable</li>\n",
    "<li>Open source programming languager</li>"
   ]
  },
  {
   "cell_type": "markdown",
   "metadata": {
    "slideshow": {
     "slide_type": "slide"
    }
   },
   "source": [
    "<h2  style=\"color:red;\"><center>Why Python?</center></h2>\n",
    "\n",
    "<br>\n",
    "<br>\n",
    "\n",
    "<li>Python is very easy to learn</li>\n",
    "<li>Python Community</li>\n",
    "<li>Python Libraries and Frameworks</li>\n",
    "<li>Versatility, Efficiency, Reliability, and Speed</li>\n",
    "<li>Open source programming languager</li>\n"
   ]
  },
  {
   "cell_type": "markdown",
   "metadata": {
    "slideshow": {
     "slide_type": "slide"
    }
   },
   "source": [
    "<h2  style=\"color:red;\"><center>Where is Python used?</center></h2>\n",
    "\n",
    "<br>\n",
    "<br>\n",
    "\n",
    "<li>Web Applications Development (Django and Flask)</li>\n",
    "<li>Mobile Application Development (Kivy)</li>\n",
    "<li>Interface Application Development (PyQt, PyGTK, Tkinter, wxPython)</li>\n",
    "<li>Game Application Development (PyGame)</li>\n",
    "<li>Network and Socket Programming (Twisted)</li>\n",
    "<li>Big Data (PySpark)</li>\n",
    "<li>Data Science (Numpy, Pandas etc.)</li>\n",
    "<li>Data Visualization (Matplotlib, Seaborn, Plotly)</li>\n",
    "<li>Machine Learning (Sklearn, PyCaret etc.)</li>\n",
    "<li>Image Processing (Opencv)</li>\n",
    "<li>Deep Learning(Keras, Pytorch etc.)</li>\n",
    "\n",
    "\n"
   ]
  },
  {
   "cell_type": "markdown",
   "metadata": {
    "slideshow": {
     "slide_type": "slide"
    }
   },
   "source": [
    "<h2  style=\"color:red;\"><center>Python Install</center></h2>\n",
    "\n",
    "<br>\n",
    "\n",
    "<li>Python 2</li>\n",
    "<li>Python 3</li>\n",
    "\n",
    "<p  style=\"color:red;\">A final release, 2.7.18, occurred on April 20, 2020, and included fixes for critical bugs and release blockers.[31] This marked the end-of-life of Python 2 </p>\n"
   ]
  },
  {
   "cell_type": "markdown",
   "metadata": {
    "slideshow": {
     "slide_type": "slide"
    }
   },
   "source": [
    "<h2  style=\"color:red;\"><center>Top 5 development IDEs</center></h2>\n",
    "\n",
    "<br>\n",
    "\n",
    "<li>Pycharm</li>\n",
    "<li>VS Code</li>\n",
    "<li>Jupyter Notebook</li>\n",
    "<li>Jupyter Lab</li>\n",
    "<li>Spyder</li>\n",
    "\n"
   ]
  },
  {
   "cell_type": "markdown",
   "metadata": {
    "slideshow": {
     "slide_type": "slide"
    }
   },
   "source": [
    "<h2  style=\"color:red;\"><center>Python Data Types</center></h2>\n",
    "\n",
    "\n",
    "<h3>Immutable Data Types</h3>\n",
    "<li>Numbers</li>\n",
    "<li>Boolean</li>\n",
    "<li>String</li>\n",
    "<li>Tuple</li>\n",
    "<li>Frozenset</li>\n",
    "\n",
    "<h3>Mutable Data Types</h3>\n",
    "\n",
    "<li>List</li>\n",
    "<li>Dictionary</li>\n",
    "<li>Set</li>\n"
   ]
  },
  {
   "cell_type": "markdown",
   "metadata": {},
   "source": [
    "<h2  style=\"color:red;\"><center>Variable Naming Rules</center></h2>\n",
    "\n",
    "<br>\n",
    "\n",
    "<li>The characters :'”,<>/?|\\()!@#$%^&*~-+ cannot be used in the variable name. (Only the \"_\" character can be used)</li>\n",
    "<li>Variable names cannot start with a number</li>\n",
    "<li>If the variable name consists of words, there cannot be spaces between them.</li>\n",
    "<li>Keywords defined in Python cannot be used as variable names.</li>\n"
   ]
  },
  {
   "cell_type": "markdown",
   "metadata": {
    "slideshow": {
     "slide_type": "slide"
    }
   },
   "source": [
    "<h2  style=\"color:red;\"><center>Python Operators</center></h2>\n",
    "\n",
    "<br>\n",
    "\n",
    "<li>Arithmetic Operators</li>\n",
    "<li>Assignment Operators</li>\n",
    "<li>Comparison Operators</li>\n",
    "<li>Logical Operators</li>\n",
    "<li>Identity Operators</li>\n",
    "<li>Membership Operators</li>\n"
   ]
  },
  {
   "cell_type": "markdown",
   "metadata": {},
   "source": [
    "<h2  style=\"color:red;\"><center>print() Function </center></h2>\n",
    "\n",
    "<br>\n",
    "\n",
    "<h3>How to use?</h3>\n",
    "\n",
    "<h4>Three Different Uses</h4>\n",
    "\n",
    "<li>Single quotes (' ')</li>\n",
    "<li>Double quotes (\" \")</li>\n",
    "<li>Three quotes (\"\"\" \"\"\")</li>"
   ]
  },
  {
   "cell_type": "code",
   "execution_count": 1,
   "metadata": {},
   "outputs": [
    {
     "name": "stdout",
     "output_type": "stream",
     "text": [
      "Hello\n",
      "Hello\n",
      "Hello\n"
     ]
    }
   ],
   "source": [
    "print('Hello')\n",
    "print(\"Hello\")\n",
    "print(\"\"\"Hello\"\"\")"
   ]
  },
  {
   "cell_type": "markdown",
   "metadata": {},
   "source": [
    "<h2  style=\"color:red;\"><center>Parameter Values</center></h2>\n",
    "\n",
    "<b>end='end'       :</b>\tOptional. Specify what to print at the end. Default is '\\n' (line feed)\n",
    "\n",
    "<b>sep='separator' :</b>\tOptional. Specify how to separate the objects, if there is more than one. Default is ' '"
   ]
  },
  {
   "cell_type": "code",
   "execution_count": 2,
   "metadata": {},
   "outputs": [
    {
     "name": "stdout",
     "output_type": "stream",
     "text": [
      "Python,Java\n"
     ]
    }
   ],
   "source": [
    "print(\"Python\",end=\",\")\n",
    "print(\"Java\")"
   ]
  },
  {
   "cell_type": "code",
   "execution_count": 3,
   "metadata": {},
   "outputs": [
    {
     "name": "stdout",
     "output_type": "stream",
     "text": [
      "Python,Java\n"
     ]
    }
   ],
   "source": [
    "print(\"Python\",\"Java\",sep=\",\")"
   ]
  },
  {
   "cell_type": "code",
   "execution_count": 4,
   "metadata": {},
   "outputs": [
    {
     "name": "stdout",
     "output_type": "stream",
     "text": [
      "Python.Java\n"
     ]
    }
   ],
   "source": [
    "print(\"Python\",\"Java\",sep=\".\")"
   ]
  },
  {
   "cell_type": "markdown",
   "metadata": {},
   "source": [
    "<h2  style=\"color:red;\"><center>The type() function</center></h2>\n",
    "\n",
    "type() method returns class type of the argument(object) passed as parameter."
   ]
  },
  {
   "cell_type": "code",
   "execution_count": 5,
   "metadata": {},
   "outputs": [],
   "source": [
    "number = 45\n",
    "word =\"Herllo\"\n",
    "myList = [\"Python\",\"Java\"]"
   ]
  },
  {
   "cell_type": "code",
   "execution_count": 6,
   "metadata": {},
   "outputs": [
    {
     "name": "stdout",
     "output_type": "stream",
     "text": [
      "<class 'int'>\n",
      "<class 'str'>\n",
      "<class 'list'>\n"
     ]
    }
   ],
   "source": [
    "print(type(number))\n",
    "print(type(word))\n",
    "print(type(myList))"
   ]
  },
  {
   "cell_type": "markdown",
   "metadata": {},
   "source": [
    "<h2  style=\"color:red;\"><center>The format() function</center></h2>\n",
    "\n",
    "Python format() function is an in-built String function used for the purpose of formatting of strings."
   ]
  },
  {
   "cell_type": "code",
   "execution_count": 7,
   "metadata": {},
   "outputs": [
    {
     "name": "stdout",
     "output_type": "stream",
     "text": [
      "Hi Ali your age is 25\n"
     ]
    }
   ],
   "source": [
    "name = \"Ali\"\n",
    "age = 25\n",
    "\n",
    "print(\"Hi {} your age is {}\".format(name,age))"
   ]
  },
  {
   "cell_type": "markdown",
   "metadata": {},
   "source": [
    "<h2  style=\"color:red;\"><center>The input() function</center></h2>\n",
    "<br>\n",
    "The input() function takes input from the user and returns it. Whatever you enter as input, the input function converts it into a string. If you enter an integer value still input() function convert it into a string.\n"
   ]
  },
  {
   "cell_type": "code",
   "execution_count": 8,
   "metadata": {},
   "outputs": [
    {
     "name": "stdout",
     "output_type": "stream",
     "text": [
      "Name :Vahit\n",
      "Vahit\n"
     ]
    }
   ],
   "source": [
    "name = input(\"Name :\")\n",
    "print(name)"
   ]
  },
  {
   "cell_type": "code",
   "execution_count": 9,
   "metadata": {},
   "outputs": [
    {
     "name": "stdout",
     "output_type": "stream",
     "text": [
      "Number1 :3\n",
      "Number2 :6\n",
      "36\n"
     ]
    }
   ],
   "source": [
    "number1 = input(\"Number1 :\")\n",
    "number2 = input(\"Number2 :\")\n",
    "\n",
    "print(number1+number2)"
   ]
  },
  {
   "cell_type": "code",
   "execution_count": 10,
   "metadata": {},
   "outputs": [
    {
     "name": "stdout",
     "output_type": "stream",
     "text": [
      "Number1 :3\n",
      "Number2 :6\n",
      "9\n"
     ]
    }
   ],
   "source": [
    "number1 = int(input(\"Number1 :\"))\n",
    "number2 = int(input(\"Number2 :\"))\n",
    "\n",
    "print(number1+number2)"
   ]
  },
  {
   "attachments": {
    "Capture.PNG": {
     "image/png": "[encoded data removed]"
    }
   },
   "cell_type": "markdown",
   "metadata": {},
   "source": [
    "<h2  style=\"color:red;\"><center>Python Comparison Operators</center></h2>\n",
    "\n",
    "\n",
    "![Capture.PNG](attachment:Capture.PNG)"
   ]
  },
  {
   "cell_type": "markdown",
   "metadata": {},
   "source": [
    "<h2  style=\"color:red;\"><center>Python if...else Statement</center></h2>\n",
    "<br>\n",
    "<h2>if Statement Syntax</h2>\n",
    "<br>\n",
    "if test expression:\n",
    "\n",
    "    statement(s)\n",
    "else:\n",
    "\n",
    "    statement(s)"
   ]
  },
  {
   "cell_type": "code",
   "execution_count": 11,
   "metadata": {},
   "outputs": [
    {
     "name": "stdout",
     "output_type": "stream",
     "text": [
      "a equals b\n"
     ]
    }
   ],
   "source": [
    "a=3\n",
    "b=3\n",
    "\n",
    "if a==b:\n",
    "    print(\"a equals b\")\n",
    "else:\n",
    "    print(\"a not equals b\")"
   ]
  },
  {
   "cell_type": "code",
   "execution_count": 12,
   "metadata": {},
   "outputs": [
    {
     "name": "stdout",
     "output_type": "stream",
     "text": [
      "a not equals b\n"
     ]
    }
   ],
   "source": [
    "a=3\n",
    "b=5\n",
    "\n",
    "if a==b:\n",
    "    print(\"a equals b\")\n",
    "else:\n",
    "    print(\"a not equals b\")"
   ]
  },
  {
   "cell_type": "markdown",
   "metadata": {},
   "source": [
    "For example, let's get the midterm and final results from the user, who calculates the average, then this\n",
    "Let's write a program that gives a letter grade according to the average"
   ]
  },
  {
   "cell_type": "code",
   "execution_count": 13,
   "metadata": {},
   "outputs": [
    {
     "name": "stdout",
     "output_type": "stream",
     "text": [
      "Midterm :58\n",
      "Final  :78\n",
      "Your  grade : BA\n"
     ]
    }
   ],
   "source": [
    "midterm = int(input(\"Midterm :\"))\n",
    "final = int(input(\"Final  :\"))\n",
    "average = (midterm*0.4)+ (final*0.6)\n",
    "\n",
    "if (average>=85 and average<=100):\n",
    " print(\"Your  grade : AA\")\n",
    "\n",
    "elif(average>=70 and average <85):\n",
    " print(\"Your  grade : BA\")\n",
    "\n",
    "elif(average>=60 and average <70):\n",
    " print(\"Your  grade : BB\")\n",
    "\n",
    "elif (average >= 45 and average < 60):\n",
    " print(\"Your  grade : CB\")\n",
    "\n",
    "elif(average>=0 and average <45):\n",
    " print(\"Your  grade : FF\")\n"
   ]
  }
 ],
 "metadata": {
  "celltoolbar": "Slideshow",
  "kernelspec": {
   "display_name": "Python 3",
   "language": "python",
   "name": "python3"
  },
  "language_info": {
   "codemirror_mode": {
    "name": "ipython",
    "version": 3
   },
   "file_extension": ".py",
   "mimetype": "text/x-python",
   "name": "python",
   "nbconvert_exporter": "python",
   "pygments_lexer": "ipython3",
   "version": "3.8.2"
  }
 },
 "nbformat": 4,
 "nbformat_minor": 2
}
